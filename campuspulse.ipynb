{
 "cells": [
  {
   "cell_type": "code",
   "execution_count": 198,
   "id": "7c433bf7",
   "metadata": {},
   "outputs": [],
   "source": [
    "import pandas as pd\n",
    "import numpy as np\n",
    "import matplotlib.pyplot as plt\n",
    "import seaborn as sns\n",
    "import shap\n",
    "from sklearn.neighbors import KNeighborsClassifier\n",
    "from sklearn.ensemble import RandomForestClassifier\n",
    "from sklearn.model_selection import train_test_split\n",
    "from sklearn.preprocessing import LabelEncoder, StandardScaler\n",
    "from sklearn.linear_model import LogisticRegression\n",
    "from sklearn.metrics import accuracy_score, classification_report, confusion_matrix\n",
    "sns.set(style=\"whitegrid\")\n"
   ]
  },
  {
   "cell_type": "code",
   "execution_count": 199,
   "id": "1ed2dd79",
   "metadata": {},
   "outputs": [
    {
     "name": "stdout",
     "output_type": "stream",
     "text": [
      "<class 'pandas.core.frame.DataFrame'>\n",
      "RangeIndex: 649 entries, 0 to 648\n",
      "Data columns (total 33 columns):\n",
      " #   Column      Non-Null Count  Dtype  \n",
      "---  ------      --------------  -----  \n",
      " 0   school      649 non-null    object \n",
      " 1   sex         649 non-null    object \n",
      " 2   address     649 non-null    object \n",
      " 3   famsize     599 non-null    object \n",
      " 4   Pstatus     649 non-null    object \n",
      " 5   Medu        649 non-null    int64  \n",
      " 6   Fedu        576 non-null    float64\n",
      " 7   Mjob        649 non-null    object \n",
      " 8   Fjob        649 non-null    object \n",
      " 9   reason      649 non-null    object \n",
      " 10  guardian    649 non-null    object \n",
      " 11  traveltime  576 non-null    float64\n",
      " 12  failures    649 non-null    int64  \n",
      " 13  schoolsup   649 non-null    object \n",
      " 14  famsup      649 non-null    object \n",
      " 15  paid        649 non-null    object \n",
      " 16  activities  649 non-null    object \n",
      " 17  nursery     649 non-null    object \n",
      " 18  higher      573 non-null    object \n",
      " 19  internet    649 non-null    object \n",
      " 20  famrel      649 non-null    int64  \n",
      " 21  freetime    604 non-null    float64\n",
      " 22  goout       649 non-null    int64  \n",
      " 23  Dalc        649 non-null    int64  \n",
      " 24  health      649 non-null    int64  \n",
      " 25  absences    580 non-null    float64\n",
      " 26  G1          649 non-null    int64  \n",
      " 27  G2          614 non-null    float64\n",
      " 28  G3          649 non-null    int64  \n",
      " 29  Feature_1   611 non-null    float64\n",
      " 30  Feature_2   603 non-null    float64\n",
      " 31  Feature_3   610 non-null    float64\n",
      " 32  romantic    649 non-null    object \n",
      "dtypes: float64(8), int64(8), object(17)\n",
      "memory usage: 167.4+ KB\n",
      "None\n",
      "  school sex address famsize Pstatus  Medu  Fedu     Mjob      Fjob  reason  \\\n",
      "0     GP   F       U     GT3       A     4   4.0  at_home   teacher  course   \n",
      "1     GP   F       U     GT3       T     1   1.0  at_home     other  course   \n",
      "2     GP   F       U     LE3       T     1   1.0  at_home     other   other   \n",
      "3     GP   F       U     GT3       T     4   2.0   health  services    home   \n",
      "4     GP   F       U     GT3       T     3   3.0    other     other    home   \n",
      "\n",
      "   ... Dalc  health  absences  G1    G2  G3 Feature_1 Feature_2 Feature_3  \\\n",
      "0  ...    1       3       4.0   0  11.0  11      18.0       2.0       1.0   \n",
      "1  ...    1       3       2.0   9  11.0  11      17.0       2.0       1.0   \n",
      "2  ...    2       3       6.0  12  13.0  12      15.0       NaN       3.0   \n",
      "3  ...    1       5       0.0  14  14.0  14      15.0       3.0       1.0   \n",
      "4  ...    1       5       0.0  11  13.0  13      16.0       NaN       2.0   \n",
      "\n",
      "  romantic  \n",
      "0       no  \n",
      "1       no  \n",
      "2       no  \n",
      "3      yes  \n",
      "4       no  \n",
      "\n",
      "[5 rows x 33 columns]\n"
     ]
    }
   ],
   "source": [
    "df = pd.read_csv(\"/Users/sanskarranjan/Downloads/Dataset.csv\")\n",
    "print(df.info())\n",
    "print(df.head())"
   ]
  },
  {
   "cell_type": "code",
   "execution_count": null,
   "id": "9174bf45",
   "metadata": {},
   "outputs": [],
   "source": [
    "plt.figure(figsize=(18, 5))\n",
    "for i, feature in enumerate(['Feature_1', 'Feature_2', 'Feature_3'], 1):\n",
    "    plt.subplot(1, 3, i)  \n",
    "    sns.histplot(df[feature], bins=20, kde=True) \n",
    "    plt.title(f'Dist of {feature}')\n",
    "    plt.xlabel(feature)\n",
    "    plt.ylabel('Freq')\n",
    "\n",
    "plt.tight_layout()\n",
    "plt.show()"
   ]
  },
  {
   "cell_type": "code",
   "execution_count": null,
   "id": "912c7df4",
   "metadata": {},
   "outputs": [],
   "source": [
    "corr_matrix = df.corr(numeric_only=True)\n",
    "plt.figure(figsize=(14, 12))\n",
    "sns.heatmap(\n",
    "    corr_matrix,\n",
    "    annot=True,        \n",
    "    fmt=\".2f\",        \n",
    "    cmap=\"seismic\",  \n",
    "    square=True,\n",
    "    linewidths=0.3,    \n",
    "    cbar_kws={'shrink': .8}  \n",
    ")\n",
    "plt.title(\"Heatmap of Features\")\n",
    "plt.show()"
   ]
  },
  {
   "cell_type": "code",
   "execution_count": null,
   "id": "e495dee1",
   "metadata": {},
   "outputs": [],
   "source": [
    "missing = df.isnull().sum()\n",
    "missing_feats = missing[missing > 0]\n",
    "print(\"Features with missing values:\", missing_feats)"
   ]
  },
  {
   "cell_type": "code",
   "execution_count": null,
   "id": "60766ca5",
   "metadata": {},
   "outputs": [],
   "source": [
    "df_cleaned = df.copy()\n",
    "df_cleaned.columns=[\"school\",\"sex\",\"address\",\"famsize\",\"Pstatus\",\"Medu\",\"Fedu\",\"Mjob\",\"Fjob\",\"reason\",\"guardian\",\"traveltime\",\"failures\",\"schoolsup\",\"famsup\",\"paid\",\"activities\",\"nursery\",\"higher\",\"internet\",\"famrel\",\"freetime\",\"goout\",\"Dalc\",\"health\",\"absences\",\"G1\",\"G2\",\"G3\",\"age\",\"studytime\",\"extrovertednes\",\"romantic\"]\n",
    "df_cleaned['famsize'].fillna(df_cleaned['famsize'].mode()[0], inplace=True)\n",
    "\n",
    "df_cleaned['Fedu'].fillna(df_cleaned['Fedu'].median(), inplace=True)\n",
    "df_cleaned['traveltime'].fillna(df_cleaned['traveltime'].median(), inplace=True)\n",
    "df_cleaned['freetime'].fillna(df_cleaned['freetime'].median(), inplace=True)\n",
    "df_cleaned['absences'].fillna(df_cleaned['absences'].median(), inplace=True)\n",
    "\n",
    "df_cleaned['higher'].fillna(df_cleaned['higher'].mode()[0], inplace=True)\n",
    "df_cleaned['G2'] = df_cleaned.apply(\n",
    "    lambda row: (row['G1'] + row['G3']) / 2 \n",
    "    if pd.isnull(row['G2']) and not (np.isnan(row['G1']) or np.isnan(row['G3'])) \n",
    "    else row['G2'],\n",
    "    axis=1\n",
    ")\n",
    "df_cleaned['G2'].fillna(df_cleaned['G2'].median(), inplace=True)\n",
    "for feature in ['age', 'studytime', 'extrovertednes']:\n",
    "    df_cleaned[feature].fillna(df_cleaned[feature].median(), inplace=True)\n",
    "    \n",
    "df_cleaned = df_cleaned.dropna(subset=['romantic'])\n"
   ]
  },
  {
   "cell_type": "code",
   "execution_count": null,
   "id": "b360704e",
   "metadata": {},
   "outputs": [],
   "source": [
    "missing_ = df_cleaned.isnull().sum()\n",
    "missing_feat = missing_[missing_ > 0]\n",
    "\n",
    "if not missing_feat.empty:\n",
    "    print(\"Features with missing values:\", missing_feat)\n",
    "else:\n",
    "    print(\"No features have missing values.\")"
   ]
  },
  {
   "cell_type": "markdown",
   "id": "ec60d1c5",
   "metadata": {},
   "source": [
    "LEVEL3"
   ]
  },
  {
   "cell_type": "code",
   "execution_count": null,
   "id": "59e389e2",
   "metadata": {},
   "outputs": [],
   "source": []
  },
  {
   "cell_type": "markdown",
   "id": "28fd433e",
   "metadata": {},
   "source": [
    "level4"
   ]
  },
  {
   "cell_type": "markdown",
   "id": "587ec6a3",
   "metadata": {},
   "source": [
    "logistic regression"
   ]
  },
  {
   "cell_type": "code",
   "execution_count": null,
   "id": "dc3c1787",
   "metadata": {},
   "outputs": [],
   "source": [
    "\n",
    "df_cleaned['romantic'] = df_cleaned['romantic'].map({'yes': 1, 'no': 0})\n",
    "\n",
    "\n",
    "categcols = df_cleaned.select_dtypes(include='object').columns\n",
    "label_encoders = {}\n",
    "for col in categcols:\n",
    "    le = LabelEncoder()\n",
    "    df_cleaned[col] = le.fit_transform(df_cleaned[col])\n",
    "    label_encoders[col] = le\n",
    "\n",
    "# Features and target\n",
    "X = df_cleaned.drop(columns=['romantic'])\n",
    "y = df_cleaned['romantic']\n",
    "\n",
    "# Train-test split\n",
    "X_train, X_test, y_train, y_test = train_test_split(X, y, test_size=0.2, random_state=42)\n",
    "\n",
    "\n",
    "\n",
    "# Standardize features\n",
    "scaler = StandardScaler()\n",
    "X_train_scaled = scaler.fit_transform(X_train)\n",
    "X_test_scaled = scaler.transform(X_test)\n",
    "\n",
    "\n",
    "# Train model\n",
    "model = LogisticRegression()\n",
    "model.fit(X_train_scaled, y_train)\n",
    "\n",
    "# Predictions and evaluation\n",
    "y_pred = model.predict(X_test_scaled)\n",
    "print(\"Accuracy Score:\", accuracy_score(y_test, y_pred))\n",
    "print(\"Classification Report:\", classification_report(y_test, y_pred))\n",
    "print(\"Confusion Matrix:\", confusion_matrix(y_test, y_pred))\n",
    "\n",
    "# Feature importance\n",
    "importance = pd.Series(model.coef_[0], index=X.columns)\n",
    "print(\"Top features influencing romantic relationships:\")\n",
    "print(importance.sort_values(ascending=False).head(10))\n",
    "\n",
    "\n",
    "# Train model\n",
    "model = RandomForestClassifier(random_state=42)\n",
    "model.fit(X_train_scaled, y_train)\n",
    "\n",
    "# Predictions and evaluation\n",
    "y_pred = model.predict(X_test_scaled)\n",
    "print(\"Accuracy Score:\", accuracy_score(y_test, y_pred))\n",
    "print(\"Classification Report:\", classification_report(y_test, y_pred))\n",
    "print(\"Confusion Matrix:\", confusion_matrix(y_test, y_pred))\n",
    "\n"
   ]
  },
  {
   "cell_type": "markdown",
   "id": "a9dc5d39",
   "metadata": {},
   "source": [
    "Random forest"
   ]
  },
  {
   "cell_type": "code",
   "execution_count": null,
   "id": "698bf0d5",
   "metadata": {},
   "outputs": [],
   "source": [
    "# Train model\n",
    "model = RandomForestClassifier(random_state=42)\n",
    "model.fit(X_train_scaled, y_train)\n",
    "\n",
    "# Predictions and evaluation\n",
    "y_pred = model.predict(X_test_scaled)\n",
    "print(\"Accuracy Score:\", accuracy_score(y_test, y_pred))\n",
    "print(\"Classification Report:\", classification_report(y_test, y_pred))\n",
    "print(\"Confusion Matrix:\", confusion_matrix(y_test, y_pred))\n"
   ]
  },
  {
   "cell_type": "markdown",
   "id": "bf6489d1",
   "metadata": {},
   "source": [
    "level5\n"
   ]
  },
  {
   "cell_type": "code",
   "execution_count": null,
   "id": "37cf570a",
   "metadata": {},
   "outputs": [],
   "source": [
    "# Convert scaled X_train and X_test back to DataFrames for SHAP\n",
    "X_train_scaled_df = pd.DataFrame(X_train_scaled, columns=X.columns)\n",
    "X_test_scaled_df = pd.DataFrame(X_test_scaled, columns=X.columns)\n",
    "\n",
    "# Initialize SHAP explainer for tree-based model\n",
    "explainer = shap.TreeExplainer(model)\n",
    "\n",
    "# Calculate SHAP values for test set\n",
    "shap_values = explainer.shap_values(X_test_scaled_df)\n",
    "\n",
    "# SHAP summary plot for class 1 (romantic = 1)\n",
    "shap.summary_plot(shap_values[1], X_test_scaled_df, plot_type=\"bar\")\n",
    "shap.summary_plot(shap_values[1], X_test_scaled_df)"
   ]
  }
 ],
 "metadata": {
  "kernelspec": {
   "display_name": "Python 3",
   "language": "python",
   "name": "python3"
  },
  "language_info": {
   "codemirror_mode": {
    "name": "ipython",
    "version": 3
   },
   "file_extension": ".py",
   "mimetype": "text/x-python",
   "name": "python",
   "nbconvert_exporter": "python",
   "pygments_lexer": "ipython3",
   "version": "3.13.1"
  }
 },
 "nbformat": 4,
 "nbformat_minor": 5
}
